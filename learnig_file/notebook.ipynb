{
 "cells": [
  {
   "cell_type": "code",
   "execution_count": 1,
   "metadata": {},
   "outputs": [
    {
     "name": "stdout",
     "output_type": "stream",
     "text": [
      "10 * 1 = 10\n",
      "10 * 2 = 20\n",
      "10 * 3 = 30\n",
      "10 * 4 = 40\n",
      "10 * 5 = 50\n",
      "10 * 6 = 60\n",
      "10 * 7 = 70\n",
      "10 * 8 = 80\n",
      "10 * 9 = 90\n",
      "10 * 10 = 100\n"
     ]
    }
   ],
   "source": [
    "num = int(input(\"Enter a number\"))\n",
    "for i in range(1, 11):\n",
    "    print ('{} * {} = {}'.format(num, i, num*i))\n"
   ]
  },
  {
   "cell_type": "code",
   "execution_count": 3,
   "metadata": {},
   "outputs": [
    {
     "name": "stdout",
     "output_type": "stream",
     "text": [
      "Hello World!\n"
     ]
    }
   ],
   "source": [
    "print(\"Hello World!\")"
   ]
  },
  {
   "cell_type": "markdown",
   "metadata": {},
   "source": [
    "Find location of a element in a square matrix."
   ]
  },
  {
   "cell_type": "code",
   "execution_count": 8,
   "metadata": {},
   "outputs": [
    {
     "name": "stdout",
     "output_type": "stream",
     "text": [
      "a b c d e \n",
      "f g h i j \n",
      "k l m n o \n",
      "p q r s t \n",
      "u v w x y \n",
      "\n",
      "search for:  s\n",
      "p q r \n",
      "d i n "
     ]
    }
   ],
   "source": [
    "new_list = ['abcde', 'fghij', 'klmno', 'pqrst', 'uvwxy']\n",
    "for i in new_list:\n",
    "    for j in i:\n",
    "        print(j, \"\", end=\"\")\n",
    "    print()\n",
    "\n",
    "elm = input(\"Find the position of a element: \")\n",
    "\n",
    "# x = y = 0\n",
    "# a = b = 0\n",
    "# for i in list:\n",
    "#     y = 0\n",
    "#     for j in i:\n",
    "#         if j == elm:\n",
    "#             a, b = x ,y\n",
    "#         y += 1\n",
    "#     x += 1\n",
    "\n",
    "a = b = 0\n",
    "for i in new_list:\n",
    "    list_2 = list(i)\n",
    "    if elm in list_2:\n",
    "        b = list_2.index(elm)\n",
    "        break\n",
    "    a += 1\n",
    "        \n",
    "print(\"\\nsearch for: \", elm)\n",
    "\n",
    "for i in range(b):\n",
    "    print(new_list[a][i], \"\", end=\"\")\n",
    "\n",
    "print()\n",
    "\n",
    "for i in range(a):\n",
    "    print(new_list[i][b], \"\", end=\"\")"
   ]
  },
  {
   "cell_type": "code",
   "execution_count": 4,
   "metadata": {},
   "outputs": [
    {
     "name": "stdout",
     "output_type": "stream",
     "text": [
      "['a', 't', 'a', 'n', 'u']\n"
     ]
    }
   ],
   "source": [
    "\n",
    "name = \"atanu\"\n",
    "print(list(name))"
   ]
  },
  {
   "cell_type": "code",
   "execution_count": 2,
   "metadata": {},
   "outputs": [
    {
     "data": {
      "text/plain": [
       "'abcdefghijklmnopqrstuvwxyz'"
      ]
     },
     "execution_count": 2,
     "metadata": {},
     "output_type": "execute_result"
    }
   ],
   "source": [
    "import string\n",
    "string.ascii_lowercase"
   ]
  },
  {
   "cell_type": "code",
   "execution_count": 4,
   "metadata": {},
   "outputs": [
    {
     "name": "stdout",
     "output_type": "stream",
     "text": [
      "{'c', 'e', 'b', 'd', 'a'}\n"
     ]
    }
   ],
   "source": [
    "a = {'a', 'b', 'c', 'd', 'e'}\n",
    "print(str(a))"
   ]
  },
  {
   "cell_type": "code",
   "execution_count": null,
   "metadata": {},
   "outputs": [],
   "source": []
  }
 ],
 "metadata": {
  "kernelspec": {
   "display_name": "Python 3",
   "language": "python",
   "name": "python3"
  },
  "language_info": {
   "codemirror_mode": {
    "name": "ipython",
    "version": 3
   },
   "file_extension": ".py",
   "mimetype": "text/x-python",
   "name": "python",
   "nbconvert_exporter": "python",
   "pygments_lexer": "ipython3",
   "version": "3.10.4"
  },
  "orig_nbformat": 4,
  "vscode": {
   "interpreter": {
    "hash": "e918e001e3b64051efa2bbcee52a61937ca78ce350d9915ebbddd59641b5034f"
   }
  }
 },
 "nbformat": 4,
 "nbformat_minor": 2
}
